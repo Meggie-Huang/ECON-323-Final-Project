{
 "cells": [
  {
   "cell_type": "markdown",
   "metadata": {},
   "source": [
    "# Predicting Age of Awareness of Sexual Orientation"
   ]
  },
  {
   "cell_type": "markdown",
   "metadata": {},
   "source": [
    "## Outline\n",
    "\n",
    "\n",
    "  - [Introduction](#Introduction)  \n",
    "  - [Data](#Data)  \n",
    "      - [Initial Observations](#Initial-Observations)  \n",
    "  - [Prediction](#Prediction)  \n",
    "  - [Conclusion](#Conclusion) \n"
   ]
  },
  {
   "cell_type": "markdown",
   "metadata": {},
   "source": [
    "## Introduction\n",
    "\n",
    "This notebook uses data from Pew Research Center's 2013 Survey of LGBT (lesbian, gay, bisexual, or transgender) Americans. The survey asked respondents to answer a myriad of questions, ranging from political views, perception of social acceptance of LGBT people, the coming out process, family, the importance of their identity, and religion. Using the answers to these questions, I will attempt to predict the age at which respondents said they knew for sure that they were LGBT. The dataset and report can be found [here](https://www.pewresearch.org/social-trends/2013/06/13/a-survey-of-lgbt-americans/).\n",
    "\n"
   ]
  },
  {
   "cell_type": "markdown",
   "metadata": {},
   "source": [
    "## Data"
   ]
  },
  {
   "cell_type": "code",
   "execution_count": 1,
   "metadata": {},
   "outputs": [
    {
     "name": "stdout",
     "output_type": "stream",
     "text": [
      "Requirement already satisfied: pyreadstat in /opt/conda/lib/python3.8/site-packages (1.1.0)\n",
      "Requirement already satisfied: pandas>0.24.0 in /opt/conda/lib/python3.8/site-packages (from pyreadstat) (1.1.5)\n",
      "Requirement already satisfied: python-dateutil>=2.7.3 in /opt/conda/lib/python3.8/site-packages (from pandas>0.24.0->pyreadstat) (2.8.1)\n",
      "Requirement already satisfied: pytz>=2017.2 in /opt/conda/lib/python3.8/site-packages (from pandas>0.24.0->pyreadstat) (2020.4)\n",
      "Requirement already satisfied: numpy>=1.15.4 in /opt/conda/lib/python3.8/site-packages (from pandas>0.24.0->pyreadstat) (1.19.4)\n",
      "Requirement already satisfied: six>=1.5 in /opt/conda/lib/python3.8/site-packages (from python-dateutil>=2.7.3->pandas>0.24.0->pyreadstat) (1.15.0)\n",
      "Note: you may need to restart the kernel to use updated packages.\n"
     ]
    }
   ],
   "source": [
    "pip install pyreadstat"
   ]
  },
  {
   "cell_type": "code",
   "execution_count": 2,
   "metadata": {},
   "outputs": [],
   "source": [
    "import numpy as np\n",
    "import pandas as pd\n",
    "import pyreadstat\n",
    "import matplotlib.pyplot as plt\n",
    "\n",
    "from sklearn import (\n",
    "    linear_model, metrics, preprocessing, pipeline, neural_network, ensemble, model_selection, tree\n",
    ")\n",
    "\n",
    "import graphviz"
   ]
  },
  {
   "cell_type": "code",
   "execution_count": 3,
   "metadata": {
    "scrolled": true
   },
   "outputs": [
    {
     "data": {
      "text/html": [
       "<div>\n",
       "<style scoped>\n",
       "    .dataframe tbody tr th:only-of-type {\n",
       "        vertical-align: middle;\n",
       "    }\n",
       "\n",
       "    .dataframe tbody tr th {\n",
       "        vertical-align: top;\n",
       "    }\n",
       "\n",
       "    .dataframe thead th {\n",
       "        text-align: right;\n",
       "    }\n",
       "</style>\n",
       "<table border=\"1\" class=\"dataframe\">\n",
       "  <thead>\n",
       "    <tr style=\"text-align: right;\">\n",
       "      <th></th>\n",
       "      <th>NEWCASEID</th>\n",
       "      <th>Q1</th>\n",
       "      <th>Q2</th>\n",
       "      <th>Q3_A</th>\n",
       "      <th>Q3_B</th>\n",
       "      <th>Q3_C</th>\n",
       "      <th>Q3_D</th>\n",
       "      <th>Q4</th>\n",
       "      <th>Q5</th>\n",
       "      <th>Q6_A</th>\n",
       "      <th>...</th>\n",
       "      <th>PPEDUCAT</th>\n",
       "      <th>PPETHM</th>\n",
       "      <th>PPHHHEAD</th>\n",
       "      <th>PPHHSIZEnew</th>\n",
       "      <th>PPT017</th>\n",
       "      <th>PPMSACAT</th>\n",
       "      <th>PPRENT</th>\n",
       "      <th>PPNET</th>\n",
       "      <th>weight</th>\n",
       "      <th>duration</th>\n",
       "    </tr>\n",
       "  </thead>\n",
       "  <tbody>\n",
       "    <tr>\n",
       "      <th>0</th>\n",
       "      <td>1.0</td>\n",
       "      <td>Pretty happy</td>\n",
       "      <td>Wrong track</td>\n",
       "      <td>Mostly favorable</td>\n",
       "      <td>Mostly favorable</td>\n",
       "      <td>Very unfavorable</td>\n",
       "      <td>Mostly unfavorable</td>\n",
       "      <td>A bigger government, providing more services</td>\n",
       "      <td>Most of the time</td>\n",
       "      <td>Some</td>\n",
       "      <td>...</td>\n",
       "      <td>Bachelor's degree or higher</td>\n",
       "      <td>White, Non-Hispanic</td>\n",
       "      <td>No</td>\n",
       "      <td>4</td>\n",
       "      <td>No people &lt; 18 yrs in HH</td>\n",
       "      <td>Metro</td>\n",
       "      <td>Occupied without payment of cash rent</td>\n",
       "      <td>No</td>\n",
       "      <td>0.1417</td>\n",
       "      <td>5.0</td>\n",
       "    </tr>\n",
       "    <tr>\n",
       "      <th>1</th>\n",
       "      <td>2.0</td>\n",
       "      <td>Pretty happy</td>\n",
       "      <td>Right direction</td>\n",
       "      <td>Very favorable</td>\n",
       "      <td>Mostly favorable</td>\n",
       "      <td>Very unfavorable</td>\n",
       "      <td>Mostly favorable</td>\n",
       "      <td>A bigger government, providing more services</td>\n",
       "      <td>Most of the time</td>\n",
       "      <td>Some</td>\n",
       "      <td>...</td>\n",
       "      <td>Bachelor's degree or higher</td>\n",
       "      <td>White, Non-Hispanic</td>\n",
       "      <td>Yes</td>\n",
       "      <td>1</td>\n",
       "      <td>No people &lt; 18 yrs in HH</td>\n",
       "      <td>Metro</td>\n",
       "      <td>Owned or being bought by you or someone in you...</td>\n",
       "      <td>Yes</td>\n",
       "      <td>0.1417</td>\n",
       "      <td>9.0</td>\n",
       "    </tr>\n",
       "    <tr>\n",
       "      <th>2</th>\n",
       "      <td>3.0</td>\n",
       "      <td>Not too happy</td>\n",
       "      <td>Right direction</td>\n",
       "      <td>Very favorable</td>\n",
       "      <td>Mostly favorable</td>\n",
       "      <td>Very unfavorable</td>\n",
       "      <td>Mostly unfavorable</td>\n",
       "      <td>A bigger government, providing more services</td>\n",
       "      <td>Some of the time</td>\n",
       "      <td>A lot</td>\n",
       "      <td>...</td>\n",
       "      <td>Bachelor's degree or higher</td>\n",
       "      <td>White, Non-Hispanic</td>\n",
       "      <td>Yes</td>\n",
       "      <td>1</td>\n",
       "      <td>No people &lt; 18 yrs in HH</td>\n",
       "      <td>Metro</td>\n",
       "      <td>Owned or being bought by you or someone in you...</td>\n",
       "      <td>Yes</td>\n",
       "      <td>0.1417</td>\n",
       "      <td>11.0</td>\n",
       "    </tr>\n",
       "    <tr>\n",
       "      <th>3</th>\n",
       "      <td>4.0</td>\n",
       "      <td>Pretty happy</td>\n",
       "      <td>Right direction</td>\n",
       "      <td>Mostly favorable</td>\n",
       "      <td>Mostly favorable</td>\n",
       "      <td>Mostly unfavorable</td>\n",
       "      <td>Mostly unfavorable</td>\n",
       "      <td>A smaller government, providing fewer services</td>\n",
       "      <td>Most of the time</td>\n",
       "      <td>Some</td>\n",
       "      <td>...</td>\n",
       "      <td>Bachelor's degree or higher</td>\n",
       "      <td>White, Non-Hispanic</td>\n",
       "      <td>Yes</td>\n",
       "      <td>2</td>\n",
       "      <td>No people &lt; 18 yrs in HH</td>\n",
       "      <td>Metro</td>\n",
       "      <td>Owned or being bought by you or someone in you...</td>\n",
       "      <td>Yes</td>\n",
       "      <td>0.1417</td>\n",
       "      <td>11.0</td>\n",
       "    </tr>\n",
       "    <tr>\n",
       "      <th>4</th>\n",
       "      <td>5.0</td>\n",
       "      <td>Pretty happy</td>\n",
       "      <td>Right direction</td>\n",
       "      <td>Very favorable</td>\n",
       "      <td>Mostly favorable</td>\n",
       "      <td>Very unfavorable</td>\n",
       "      <td>Mostly unfavorable</td>\n",
       "      <td>A bigger government, providing more services</td>\n",
       "      <td>Most of the time</td>\n",
       "      <td>Some</td>\n",
       "      <td>...</td>\n",
       "      <td>Bachelor's degree or higher</td>\n",
       "      <td>White, Non-Hispanic</td>\n",
       "      <td>Yes</td>\n",
       "      <td>2</td>\n",
       "      <td>No people &lt; 18 yrs in HH</td>\n",
       "      <td>Metro</td>\n",
       "      <td>Owned or being bought by you or someone in you...</td>\n",
       "      <td>Yes</td>\n",
       "      <td>0.1417</td>\n",
       "      <td>12.0</td>\n",
       "    </tr>\n",
       "  </tbody>\n",
       "</table>\n",
       "<p>5 rows × 181 columns</p>\n",
       "</div>"
      ],
      "text/plain": [
       "   NEWCASEID             Q1               Q2              Q3_A  \\\n",
       "0        1.0   Pretty happy      Wrong track  Mostly favorable   \n",
       "1        2.0   Pretty happy  Right direction    Very favorable   \n",
       "2        3.0  Not too happy  Right direction    Very favorable   \n",
       "3        4.0   Pretty happy  Right direction  Mostly favorable   \n",
       "4        5.0   Pretty happy  Right direction    Very favorable   \n",
       "\n",
       "               Q3_B                Q3_C                Q3_D  \\\n",
       "0  Mostly favorable    Very unfavorable  Mostly unfavorable   \n",
       "1  Mostly favorable    Very unfavorable    Mostly favorable   \n",
       "2  Mostly favorable    Very unfavorable  Mostly unfavorable   \n",
       "3  Mostly favorable  Mostly unfavorable  Mostly unfavorable   \n",
       "4  Mostly favorable    Very unfavorable  Mostly unfavorable   \n",
       "\n",
       "                                               Q4                Q5   Q6_A  \\\n",
       "0    A bigger government, providing more services  Most of the time   Some   \n",
       "1    A bigger government, providing more services  Most of the time   Some   \n",
       "2    A bigger government, providing more services  Some of the time  A lot   \n",
       "3  A smaller government, providing fewer services  Most of the time   Some   \n",
       "4    A bigger government, providing more services  Most of the time   Some   \n",
       "\n",
       "   ...                     PPEDUCAT               PPETHM PPHHHEAD PPHHSIZEnew  \\\n",
       "0  ...  Bachelor's degree or higher  White, Non-Hispanic       No           4   \n",
       "1  ...  Bachelor's degree or higher  White, Non-Hispanic      Yes           1   \n",
       "2  ...  Bachelor's degree or higher  White, Non-Hispanic      Yes           1   \n",
       "3  ...  Bachelor's degree or higher  White, Non-Hispanic      Yes           2   \n",
       "4  ...  Bachelor's degree or higher  White, Non-Hispanic      Yes           2   \n",
       "\n",
       "                     PPT017 PPMSACAT  \\\n",
       "0  No people < 18 yrs in HH    Metro   \n",
       "1  No people < 18 yrs in HH    Metro   \n",
       "2  No people < 18 yrs in HH    Metro   \n",
       "3  No people < 18 yrs in HH    Metro   \n",
       "4  No people < 18 yrs in HH    Metro   \n",
       "\n",
       "                                              PPRENT PPNET  weight duration  \n",
       "0              Occupied without payment of cash rent    No  0.1417      5.0  \n",
       "1  Owned or being bought by you or someone in you...   Yes  0.1417      9.0  \n",
       "2  Owned or being bought by you or someone in you...   Yes  0.1417     11.0  \n",
       "3  Owned or being bought by you or someone in you...   Yes  0.1417     11.0  \n",
       "4  Owned or being bought by you or someone in you...   Yes  0.1417     12.0  \n",
       "\n",
       "[5 rows x 181 columns]"
      ]
     },
     "execution_count": 3,
     "metadata": {},
     "output_type": "execute_result"
    }
   ],
   "source": [
    "df = pd.read_spss('lgbt.sav')\n",
    "df.head()"
   ]
  },
  {
   "cell_type": "markdown",
   "metadata": {},
   "source": [
    "First some visualizations of age, race, education, and income to get an idea of the demographics of the people surveyed."
   ]
  },
  {
   "cell_type": "code",
   "execution_count": 4,
   "metadata": {},
   "outputs": [
    {
     "data": {
      "image/png": "[encoded data removed]",
      "text/plain": [
       "<Figure size 432x288 with 1 Axes>"
      ]
     },
     "metadata": {
      "needs_background": "light"
     },
     "output_type": "display_data"
    }
   ],
   "source": [
    "fig, ax = plt.subplots()\n",
    "age = df.groupby('ppagecat')['NEWCASEID'].count()\n",
    "age.plot(kind = 'bar',  xlabel = 'Age of Respondent', ylabel = 'Frequency', title = 'Age Distribution')\n",
    "plt.xticks(rotation = 0);"
   ]
  },
  {
   "cell_type": "code",
   "execution_count": 5,
   "metadata": {},
   "outputs": [
    {
     "data": {
      "text/plain": [
       "0.758563074352548"
      ]
     },
     "execution_count": 5,
     "metadata": {},
     "output_type": "execute_result"
    }
   ],
   "source": [
    "# calculate the percentage of adults between 25 and 64\n",
    "sum(age[1:5])/sum(age)"
   ]
  },
  {
   "cell_type": "code",
   "execution_count": 6,
   "metadata": {},
   "outputs": [
    {
     "data": {
      "image/png": "[encoded data removed]",
      "text/plain": [
       "<Figure size 432x288 with 1 Axes>"
      ]
     },
     "metadata": {
      "needs_background": "light"
     },
     "output_type": "display_data"
    }
   ],
   "source": [
    "fig, ax = plt.subplots()\n",
    "race = df.groupby('PPETHM')['NEWCASEID'].count()\n",
    "\n",
    "# reindexed because they were in the wrong order\n",
    "race = race.reindex(['White, Non-Hispanic','Black, Non-Hispanic', 'Hispanic', '2+ Races, Non-Hispanic', 'Other, Non-Hispanic'])\n",
    "race.plot(kind = 'bar', xlabel = 'Race of Respondent', ylabel = 'Frequency', title = 'Distribution of Race')\n",
    "ax.set_xticklabels(['White', 'Black', 'Hispanic', 'Mixed Race', 'Other'])\n",
    "plt.xticks(rotation = 0);"
   ]
  },
  {
   "cell_type": "code",
   "execution_count": 7,
   "metadata": {},
   "outputs": [
    {
     "data": {
      "text/plain": [
       "0.7527151211361738"
      ]
     },
     "execution_count": 7,
     "metadata": {},
     "output_type": "execute_result"
    }
   ],
   "source": [
    "# calculate the percentage of white people\n",
    "race[0]/sum(race)"
   ]
  },
  {
   "cell_type": "code",
   "execution_count": 8,
   "metadata": {},
   "outputs": [
    {
     "data": {
      "image/png": "[encoded data removed]",
      "text/plain": [
       "<Figure size 432x288 with 1 Axes>"
      ]
     },
     "metadata": {
      "needs_background": "light"
     },
     "output_type": "display_data"
    }
   ],
   "source": [
    "fig, ax = plt.subplots()\n",
    "edu = df.groupby('PPEDUCAT')['NEWCASEID'].count()\n",
    "\n",
    "# reindexed because they were in the wrong order\n",
    "edu = edu.reindex(['Less than high school', 'High school',  'Some college', \"Bachelor's degree or higher\"])\n",
    "edu.plot(kind = 'bar', xlabel = 'Educational Attainment of Respondent', ylabel = 'Frequency', title = 'Education Distribution');"
   ]
  },
  {
   "cell_type": "code",
   "execution_count": 9,
   "metadata": {},
   "outputs": [
    {
     "data": {
      "text/plain": [
       "0.8596491228070176"
      ]
     },
     "execution_count": 9,
     "metadata": {},
     "output_type": "execute_result"
    }
   ],
   "source": [
    "# calculate the percentage of people with at least some college\n",
    "sum(edu[2:4])/sum(edu)"
   ]
  },
  {
   "cell_type": "code",
   "execution_count": 10,
   "metadata": {
    "scrolled": true
   },
   "outputs": [
    {
     "data": {
      "image/png": "[encoded data removed]",
      "text/plain": [
       "<Figure size 432x288 with 1 Axes>"
      ]
     },
     "metadata": {
      "needs_background": "light"
     },
     "output_type": "display_data"
    }
   ],
   "source": [
    "fig, ax = plt.subplots()\n",
    "income = df.groupby('INCOME')['NEWCASEID'].count()\n",
    "\n",
    "# reindexed because they were in the wrong order\n",
    "income = income.reindex(['Less than $20,000', '$20,000 to under $30,000', '$30,000 to under $40,000',\n",
    "                  '$40,000 to under $50,000', '$50,000 to under $75,000',\n",
    "                  '$75,000 to under $100,000', '$100,000 to under $150,000', '$150,000 or more', 'Refused'])\n",
    "\n",
    "income.plot(kind = 'bar', title = 'Distribution of Income', xlabel =\"Income (in thousands)\", ylabel = 'Frequency')\n",
    "ax.set_xticklabels(['<20', '20-30', '30-40', '40-50', '50-75', '75-100', '100-150', '> 150', 'Refused']);\n",
    "plt.xticks(rotation = 45);"
   ]
  },
  {
   "cell_type": "code",
   "execution_count": 11,
   "metadata": {},
   "outputs": [
    {
     "data": {
      "text/plain": [
       "0.7000835421888053"
      ]
     },
     "execution_count": 11,
     "metadata": {},
     "output_type": "execute_result"
    }
   ],
   "source": [
    "# calculate the percentage of people making less than 75 000 per year\n",
    "sum(income[0:5])/sum(income)"
   ]
  },
  {
   "cell_type": "markdown",
   "metadata": {},
   "source": [
    "### Initial Observations\n",
    "\n",
    "- Most of the people surveyed: \n",
    "    - were between 25 and 64 (~76%)\n",
    "    - were white (~75%)\n",
    "    - have a bachelor's degree or at least some college (~86%)\n",
    "    - made less than $75 000 a year (~70%)"
   ]
  },
  {
   "cell_type": "markdown",
   "metadata": {},
   "source": [
    "## Prediction\n",
    "\n",
    "Respondents were asked over 100 questions, so I will pick the ones that I think are the most relevant.\n",
    "\n",
    "**Independent variable**: Q41, age of respondent when they knew for sure that they were LGBT\n",
    "\n",
    "**Dependent variables**: \n",
    "   - Q11: support or oppose same-sex marriage\n",
    "   - IDEO: political views\n",
    "   - SEX: sex of respondent\n",
    "   - Q27: degree of attraction to males and females\n",
    "   - Q31: importance of being LGBT to overall identity\n",
    "   - Q53: extent of social acceptance in the country (United States)\n",
    "   - Q67: conflict between religious beliefs and sexual orientation\n",
    "   - Q71: extent of social acceptance in city/town of residence\n",
    "   - Q74: proportion of close friends who are LGBT\n",
    "   - IMP: importance of religion in respondent's life\n",
    "   - INCOME: income from all sources in 2012\n",
    "   - ppagecat: age of respondent, split into seven bins\n",
    "   - PPEDUCAT: educational attainment \n",
    "   - PPETHM: race/ethinicity"
   ]
  },
  {
   "cell_type": "markdown",
   "metadata": {},
   "source": [
    "**Clean Data**"
   ]
  },
  {
   "cell_type": "code",
   "execution_count": 12,
   "metadata": {},
   "outputs": [
    {
     "data": {
      "text/html": [
       "<div>\n",
       "<style scoped>\n",
       "    .dataframe tbody tr th:only-of-type {\n",
       "        vertical-align: middle;\n",
       "    }\n",
       "\n",
       "    .dataframe tbody tr th {\n",
       "        vertical-align: top;\n",
       "    }\n",
       "\n",
       "    .dataframe thead th {\n",
       "        text-align: right;\n",
       "    }\n",
       "</style>\n",
       "<table border=\"1\" class=\"dataframe\">\n",
       "  <thead>\n",
       "    <tr style=\"text-align: right;\">\n",
       "      <th></th>\n",
       "      <th>ssmsupport</th>\n",
       "      <th>IDEO</th>\n",
       "      <th>SEX</th>\n",
       "      <th>attraction</th>\n",
       "      <th>identityimp</th>\n",
       "      <th>ageLGBT</th>\n",
       "      <th>cntryaccept</th>\n",
       "      <th>rlgnconflict</th>\n",
       "      <th>cityaccept</th>\n",
       "      <th>friends</th>\n",
       "      <th>religiosity</th>\n",
       "      <th>INCOME</th>\n",
       "      <th>age</th>\n",
       "      <th>education</th>\n",
       "      <th>race_Black, Non-Hispanic</th>\n",
       "      <th>race_Hispanic</th>\n",
       "      <th>race_Other, Non-Hispanic</th>\n",
       "      <th>race_White, Non-Hispanic</th>\n",
       "    </tr>\n",
       "  </thead>\n",
       "  <tbody>\n",
       "    <tr>\n",
       "      <th>1</th>\n",
       "      <td>4</td>\n",
       "      <td>5</td>\n",
       "      <td>1</td>\n",
       "      <td>1</td>\n",
       "      <td>2</td>\n",
       "      <td>19.0</td>\n",
       "      <td>3</td>\n",
       "      <td>0</td>\n",
       "      <td>4</td>\n",
       "      <td>3</td>\n",
       "      <td>4</td>\n",
       "      <td>7</td>\n",
       "      <td>4</td>\n",
       "      <td>4</td>\n",
       "      <td>0</td>\n",
       "      <td>0</td>\n",
       "      <td>0</td>\n",
       "      <td>1</td>\n",
       "    </tr>\n",
       "    <tr>\n",
       "      <th>2</th>\n",
       "      <td>4</td>\n",
       "      <td>5</td>\n",
       "      <td>0</td>\n",
       "      <td>5</td>\n",
       "      <td>3</td>\n",
       "      <td>16.0</td>\n",
       "      <td>3</td>\n",
       "      <td>0</td>\n",
       "      <td>4</td>\n",
       "      <td>4</td>\n",
       "      <td>4</td>\n",
       "      <td>5</td>\n",
       "      <td>4</td>\n",
       "      <td>4</td>\n",
       "      <td>0</td>\n",
       "      <td>0</td>\n",
       "      <td>0</td>\n",
       "      <td>1</td>\n",
       "    </tr>\n",
       "    <tr>\n",
       "      <th>3</th>\n",
       "      <td>4</td>\n",
       "      <td>3</td>\n",
       "      <td>0</td>\n",
       "      <td>5</td>\n",
       "      <td>4</td>\n",
       "      <td>18.0</td>\n",
       "      <td>3</td>\n",
       "      <td>0</td>\n",
       "      <td>2</td>\n",
       "      <td>3</td>\n",
       "      <td>4</td>\n",
       "      <td>7</td>\n",
       "      <td>3</td>\n",
       "      <td>4</td>\n",
       "      <td>0</td>\n",
       "      <td>0</td>\n",
       "      <td>0</td>\n",
       "      <td>1</td>\n",
       "    </tr>\n",
       "    <tr>\n",
       "      <th>4</th>\n",
       "      <td>4</td>\n",
       "      <td>5</td>\n",
       "      <td>1</td>\n",
       "      <td>1</td>\n",
       "      <td>5</td>\n",
       "      <td>18.0</td>\n",
       "      <td>3</td>\n",
       "      <td>0</td>\n",
       "      <td>3</td>\n",
       "      <td>4</td>\n",
       "      <td>2</td>\n",
       "      <td>6</td>\n",
       "      <td>3</td>\n",
       "      <td>4</td>\n",
       "      <td>0</td>\n",
       "      <td>0</td>\n",
       "      <td>0</td>\n",
       "      <td>1</td>\n",
       "    </tr>\n",
       "    <tr>\n",
       "      <th>5</th>\n",
       "      <td>3</td>\n",
       "      <td>3</td>\n",
       "      <td>0</td>\n",
       "      <td>4</td>\n",
       "      <td>4</td>\n",
       "      <td>22.0</td>\n",
       "      <td>2</td>\n",
       "      <td>1</td>\n",
       "      <td>3</td>\n",
       "      <td>2</td>\n",
       "      <td>2</td>\n",
       "      <td>1</td>\n",
       "      <td>6</td>\n",
       "      <td>4</td>\n",
       "      <td>0</td>\n",
       "      <td>0</td>\n",
       "      <td>0</td>\n",
       "      <td>1</td>\n",
       "    </tr>\n",
       "  </tbody>\n",
       "</table>\n",
       "</div>"
      ],
      "text/plain": [
       "  ssmsupport IDEO  SEX attraction identityimp ageLGBT cntryaccept  \\\n",
       "1          4    5    1          1           2    19.0           3   \n",
       "2          4    5    0          5           3    16.0           3   \n",
       "3          4    3    0          5           4    18.0           3   \n",
       "4          4    5    1          1           5    18.0           3   \n",
       "5          3    3    0          4           4    22.0           2   \n",
       "\n",
       "   rlgnconflict cityaccept friends religiosity INCOME age education  \\\n",
       "1             0          4       3           4      7   4         4   \n",
       "2             0          4       4           4      5   4         4   \n",
       "3             0          2       3           4      7   3         4   \n",
       "4             0          3       4           2      6   3         4   \n",
       "5             1          3       2           2      1   6         4   \n",
       "\n",
       "   race_Black, Non-Hispanic  race_Hispanic  race_Other, Non-Hispanic  \\\n",
       "1                         0              0                         0   \n",
       "2                         0              0                         0   \n",
       "3                         0              0                         0   \n",
       "4                         0              0                         0   \n",
       "5                         0              0                         0   \n",
       "\n",
       "   race_White, Non-Hispanic  \n",
       "1                         1  \n",
       "2                         1  \n",
       "3                         1  \n",
       "4                         1  \n",
       "5                         1  "
      ]
     },
     "execution_count": 12,
     "metadata": {},
     "output_type": "execute_result"
    }
   ],
   "source": [
    "# Select relevant variables\n",
    "df = df[['Q11', 'IDEO', 'SEX', 'Q27', 'Q31', 'Q41', 'Q53', 'Q67',\n",
    "         'Q71', 'Q74', 'IMP', 'INCOME', 'ppagecat', 'PPEDUCAT', 'PPETHM']]\n",
    "\n",
    "\n",
    "# Remove all rows where there was at least one question in which the respondent refused to answer or was unsure\n",
    "df = df.replace('Refused', np.nan)\n",
    "df = df.replace('Still not sure', np.nan)\n",
    "df = df.dropna()\n",
    "\n",
    "# Code the variables in an order that makes sense\n",
    "df[\"Q11\"] = df[\"Q11\"].map({\"Strongly favor\": 4, 'Favor': 3, \"Oppose\": 2, \"Strongly oppose\": 1})\n",
    "df['IDEO'] = df['IDEO'].map({\"Very liberal\": 5, \"Liberal\": 4, \"Moderate\": 3, \"Conservative\": 2, \"Very conservative\": 1})\n",
    "df[\"SEX\"] = df[\"SEX\"].cat.codes\n",
    "df[\"Q27\"] = df[\"Q27\"].map({\"Only or mostly attracted to females\": 5, \"Somewhat more attracted to females than males\": 4,\n",
    "                   \"About equally attracted to males and females\": 3, \"Somewhat more attracted to males than females\": 2,\n",
    "                   \"Only or mostly attracted to males\": 1})\n",
    "\n",
    "df[\"Q31\"] = df[\"Q31\"].map({\"Extremely important\": 5, \"Very important\": 4, \"Somewhat important\": 3, \n",
    "                           \"Not too important\": 2, \"Not at all important\": 1})\n",
    "# Q41 is already continuous\n",
    "df[\"Q53\"] = df[\"Q53\"].map({\"A lot\": 4, \"Some\": 3, \"Only a little\": 2, \"None at all\": 1})\n",
    "df[\"Q67\"] = df[\"Q67\"].cat.codes\n",
    "df[\"Q71\"] = df[\"Q71\"].map({\"A lot\": 4, \"Some\": 3, \"Only a little\": 2, \"None at all\": 1})\n",
    "df[\"Q74\"] = df[\"Q74\"].map({\"All or most of them\": 4, \"Some of them\": 3, \"Only a few of them\": 2, \"None of them\": 1})\n",
    "df[\"IMP\"] = df[\"IMP\"].map({\"Not at all important\": 4, \"Not too important\": 3, \"Somewhat important\": 2, \"Very important\": 1})\n",
    "df[\"INCOME\"] = df[\"INCOME\"].map({\"$150,000 or more\": 8, \"$100,000 to under $150,000\": 7, \"$75,000 to under $100,000\": 6,\n",
    "                                \"$50,000 to under $75,000\": 5, \"$40,000 to under $50,000\": 4, \"$30,000 to under $40,000\": 3,\n",
    "                                \"$20,000 to under $30,000\": 2, \"Less than $20,000\": 1})\n",
    "df[\"ppagecat\"] = df[\"ppagecat\"].map({\"18-24\": 7, \"25-34\": 6, \"35-44\": 5, \"45-54\": 4, \"55-64\": 3, \"65-74\": 2, \"75+\": 1})\n",
    "df[\"PPEDUCAT\"] = df[\"PPEDUCAT\"].map({\"Bachelor's degree or higher\": 4, \"Some college\": 3, \n",
    "                                     \"High school\": 2, \"Less than high school\": 1})\n",
    "\n",
    "\n",
    "df = df.rename(columns = {'Q11': 'ssmsupport', 'Q27': 'attraction', 'Q31': 'identityimp', 'Q41': 'ageLGBT', \n",
    "                          'Q53': 'cntryaccept', 'Q67': 'rlgnconflict', 'Q71': 'cityaccept', 'Q74': 'friends', \n",
    "                          'IMP': 'religiosity', 'ppagecat': 'age', 'PPEDUCAT': 'education', 'PPETHM': 'race'})\n",
    "\n",
    "# No ordinal ranking for race/ethinicity \n",
    "df = pd.get_dummies(df, columns = [\"race\"], drop_first = True) # avoid perfect multicollinearity\n",
    "df.head()"
   ]
  },
  {
   "cell_type": "markdown",
   "metadata": {},
   "source": [
    "**Linear Regression**"
   ]
  },
  {
   "cell_type": "code",
   "execution_count": 13,
   "metadata": {},
   "outputs": [
    {
     "data": {
      "text/plain": [
       "62.334480957943455"
      ]
     },
     "execution_count": 13,
     "metadata": {},
     "output_type": "execute_result"
    }
   ],
   "source": [
    "X = df.drop(['ageLGBT'], axis = 1)\n",
    "y = df['ageLGBT']\n",
    "\n",
    "lr = linear_model.LinearRegression().fit(X, y)\n",
    "pred = lr.predict(X)\n",
    "metrics.mean_squared_error(y, pred)"
   ]
  },
  {
   "cell_type": "markdown",
   "metadata": {},
   "source": [
    "**Lasso**"
   ]
  },
  {
   "cell_type": "code",
   "execution_count": 14,
   "metadata": {},
   "outputs": [
    {
     "data": {
      "text/plain": [
       "66.0265148151"
      ]
     },
     "execution_count": 14,
     "metadata": {},
     "output_type": "execute_result"
    }
   ],
   "source": [
    "# no cross validation\n",
    "lasso = linear_model.Lasso().fit(X, y)\n",
    "predl = lasso.predict(X)\n",
    "metrics.mean_squared_error(y, predl)"
   ]
  },
  {
   "cell_type": "code",
   "execution_count": 15,
   "metadata": {},
   "outputs": [
    {
     "data": {
      "text/plain": [
       "62.74654013606901"
      ]
     },
     "execution_count": 15,
     "metadata": {},
     "output_type": "execute_result"
    }
   ],
   "source": [
    "# use 5-fold cross validation to find alpha that gives the lowest mse\n",
    "cv = model_selection.RepeatedKFold(random_state = 1)\n",
    "lasso_cv = linear_model.LassoCV(alphas = np.arange(0.01, 1, 0.01), cv=cv, n_jobs = -1)\n",
    "mod = lasso_cv.fit(X, y)\n",
    "predl = mod.predict(X)\n",
    "metrics.mean_squared_error(y, predl)"
   ]
  },
  {
   "cell_type": "markdown",
   "metadata": {},
   "source": [
    "**Compare coefficients**"
   ]
  },
  {
   "cell_type": "code",
   "execution_count": 16,
   "metadata": {},
   "outputs": [
    {
     "data": {
      "text/html": [
       "<div>\n",
       "<style scoped>\n",
       "    .dataframe tbody tr th:only-of-type {\n",
       "        vertical-align: middle;\n",
       "    }\n",
       "\n",
       "    .dataframe tbody tr th {\n",
       "        vertical-align: top;\n",
       "    }\n",
       "\n",
       "    .dataframe thead th {\n",
       "        text-align: right;\n",
       "    }\n",
       "</style>\n",
       "<table border=\"1\" class=\"dataframe\">\n",
       "  <thead>\n",
       "    <tr style=\"text-align: right;\">\n",
       "      <th></th>\n",
       "      <th>lasso</th>\n",
       "      <th>linear</th>\n",
       "    </tr>\n",
       "  </thead>\n",
       "  <tbody>\n",
       "    <tr>\n",
       "      <th>ssmsupport</th>\n",
       "      <td>0.000000</td>\n",
       "      <td>0.642018</td>\n",
       "    </tr>\n",
       "    <tr>\n",
       "      <th>IDEO</th>\n",
       "      <td>0.000000</td>\n",
       "      <td>-0.110977</td>\n",
       "    </tr>\n",
       "    <tr>\n",
       "      <th>SEX</th>\n",
       "      <td>-0.000000</td>\n",
       "      <td>-2.097794</td>\n",
       "    </tr>\n",
       "    <tr>\n",
       "      <th>attraction</th>\n",
       "      <td>0.764386</td>\n",
       "      <td>0.772832</td>\n",
       "    </tr>\n",
       "    <tr>\n",
       "      <th>identityimp</th>\n",
       "      <td>-0.152699</td>\n",
       "      <td>-0.768748</td>\n",
       "    </tr>\n",
       "    <tr>\n",
       "      <th>cntryaccept</th>\n",
       "      <td>-0.000000</td>\n",
       "      <td>-0.299334</td>\n",
       "    </tr>\n",
       "    <tr>\n",
       "      <th>rlgnconflict</th>\n",
       "      <td>-0.000000</td>\n",
       "      <td>0.346151</td>\n",
       "    </tr>\n",
       "    <tr>\n",
       "      <th>cityaccept</th>\n",
       "      <td>-0.000000</td>\n",
       "      <td>0.183345</td>\n",
       "    </tr>\n",
       "    <tr>\n",
       "      <th>friends</th>\n",
       "      <td>-0.000000</td>\n",
       "      <td>-0.710135</td>\n",
       "    </tr>\n",
       "    <tr>\n",
       "      <th>religiosity</th>\n",
       "      <td>-0.000000</td>\n",
       "      <td>-0.113838</td>\n",
       "    </tr>\n",
       "    <tr>\n",
       "      <th>INCOME</th>\n",
       "      <td>0.184315</td>\n",
       "      <td>0.161176</td>\n",
       "    </tr>\n",
       "    <tr>\n",
       "      <th>age</th>\n",
       "      <td>-1.245917</td>\n",
       "      <td>-1.631868</td>\n",
       "    </tr>\n",
       "    <tr>\n",
       "      <th>education</th>\n",
       "      <td>0.000000</td>\n",
       "      <td>1.463849</td>\n",
       "    </tr>\n",
       "    <tr>\n",
       "      <th>race_Black, Non-Hispanic</th>\n",
       "      <td>-0.000000</td>\n",
       "      <td>0.322500</td>\n",
       "    </tr>\n",
       "    <tr>\n",
       "      <th>race_Hispanic</th>\n",
       "      <td>-0.000000</td>\n",
       "      <td>0.922464</td>\n",
       "    </tr>\n",
       "    <tr>\n",
       "      <th>race_Other, Non-Hispanic</th>\n",
       "      <td>-0.000000</td>\n",
       "      <td>0.300590</td>\n",
       "    </tr>\n",
       "    <tr>\n",
       "      <th>race_White, Non-Hispanic</th>\n",
       "      <td>0.000000</td>\n",
       "      <td>1.291914</td>\n",
       "    </tr>\n",
       "  </tbody>\n",
       "</table>\n",
       "</div>"
      ],
      "text/plain": [
       "                             lasso    linear\n",
       "ssmsupport                0.000000  0.642018\n",
       "IDEO                      0.000000 -0.110977\n",
       "SEX                      -0.000000 -2.097794\n",
       "attraction                0.764386  0.772832\n",
       "identityimp              -0.152699 -0.768748\n",
       "cntryaccept              -0.000000 -0.299334\n",
       "rlgnconflict             -0.000000  0.346151\n",
       "cityaccept               -0.000000  0.183345\n",
       "friends                  -0.000000 -0.710135\n",
       "religiosity              -0.000000 -0.113838\n",
       "INCOME                    0.184315  0.161176\n",
       "age                      -1.245917 -1.631868\n",
       "education                 0.000000  1.463849\n",
       "race_Black, Non-Hispanic -0.000000  0.322500\n",
       "race_Hispanic            -0.000000  0.922464\n",
       "race_Other, Non-Hispanic -0.000000  0.300590\n",
       "race_White, Non-Hispanic  0.000000  1.291914"
      ]
     },
     "execution_count": 16,
     "metadata": {},
     "output_type": "execute_result"
    }
   ],
   "source": [
    "lasso_coef = pd.Series(dict(zip(list(X), lasso.coef_)))\n",
    "lr_coef = pd.Series(dict(zip(list(X), lr.coef_)))\n",
    "coefs = pd.DataFrame(dict(lasso = lasso_coef, linear = lr_coef))\n",
    "coefs"
   ]
  },
  {
   "cell_type": "markdown",
   "metadata": {},
   "source": [
    "**Regression Tree**"
   ]
  },
  {
   "cell_type": "code",
   "execution_count": 17,
   "metadata": {},
   "outputs": [
    {
     "data": {
      "text/plain": [
       "66.07722496672147"
      ]
     },
     "execution_count": 17,
     "metadata": {},
     "output_type": "execute_result"
    }
   ],
   "source": [
    "# split data into training and test\n",
    "X_train, X_test, y_train, y_test = model_selection.train_test_split(X, y, random_state = 0)\n",
    "\n",
    "# fit regression tree with training data\n",
    "trained = tree.DecisionTreeRegressor(max_depth = 3).fit(X_train, y_train)\n",
    "pred = trained.predict(X_test)\n",
    "metrics.mean_squared_error(y_test, pred)"
   ]
  },
  {
   "cell_type": "code",
   "execution_count": 18,
   "metadata": {
    "scrolled": false
   },
   "outputs": [
    {
     "data": {
      "image/svg+xml": [
       "<?xml version=\"1.0\" encoding=\"UTF-8\" standalone=\"no\"?>\n",
       "<!DOCTYPE svg PUBLIC \"-//W3C//DTD SVG 1.1//EN\"\n",
       " \"http://www.w3.org/Graphics/SVG/1.1/DTD/svg11.dtd\">\n",
       "<!-- Generated by graphviz version 2.42.3 (20191010.1750)\n",
       " -->\n",
       "<!-- Title: Tree Pages: 1 -->\n",
       "<svg width=\"1136pt\" height=\"373pt\"\n",
       " viewBox=\"0.00 0.00 1136.00 373.00\" xmlns=\"http://www.w3.org/2000/svg\" xmlns:xlink=\"http://www.w3.org/1999/xlink\">\n",
       "<g id=\"graph0\" class=\"graph\" transform=\"scale(1 1) rotate(0) translate(4 369)\">\n",
       "<title>Tree</title>\n",
       "<polygon fill=\"white\" stroke=\"transparent\" points=\"-4,4 -4,-369 1132,-369 1132,4 -4,4\"/>\n",
       "<!-- 0 -->\n",
       "<g id=\"node1\" class=\"node\">\n",
       "<title>0</title>\n",
       "<path fill=\"#f7d9c4\" stroke=\"black\" d=\"M580,-365C580,-365 478,-365 478,-365 472,-365 466,-359 466,-353 466,-353 466,-309 466,-309 466,-303 472,-297 478,-297 478,-297 580,-297 580,-297 586,-297 592,-303 592,-309 592,-309 592,-353 592,-353 592,-359 586,-365 580,-365\"/>\n",
       "<text text-anchor=\"start\" x=\"493.5\" y=\"-349.8\" font-family=\"Helvetica,sans-Serif\" font-size=\"14.00\">age ≤ 4.5</text>\n",
       "<text text-anchor=\"start\" x=\"478\" y=\"-334.8\" font-family=\"Helvetica,sans-Serif\" font-size=\"14.00\">mse = 77.566</text>\n",
       "<text text-anchor=\"start\" x=\"474.5\" y=\"-319.8\" font-family=\"Helvetica,sans-Serif\" font-size=\"14.00\">samples = 798</text>\n",
       "<text text-anchor=\"start\" x=\"474\" y=\"-304.8\" font-family=\"Helvetica,sans-Serif\" font-size=\"14.00\">value = 19.843</text>\n",
       "</g>\n",
       "<!-- 1 -->\n",
       "<g id=\"node2\" class=\"node\">\n",
       "<title>1</title>\n",
       "<path fill=\"#f3c7a7\" stroke=\"black\" d=\"M504.5,-261C504.5,-261 399.5,-261 399.5,-261 393.5,-261 387.5,-255 387.5,-249 387.5,-249 387.5,-205 387.5,-205 387.5,-199 393.5,-193 399.5,-193 399.5,-193 504.5,-193 504.5,-193 510.5,-193 516.5,-199 516.5,-205 516.5,-205 516.5,-249 516.5,-249 516.5,-255 510.5,-261 504.5,-261\"/>\n",
       "<text text-anchor=\"start\" x=\"395.5\" y=\"-245.8\" font-family=\"Helvetica,sans-Serif\" font-size=\"14.00\">attraction ≤ 1.5</text>\n",
       "<text text-anchor=\"start\" x=\"401\" y=\"-230.8\" font-family=\"Helvetica,sans-Serif\" font-size=\"14.00\">mse = 109.45</text>\n",
       "<text text-anchor=\"start\" x=\"397.5\" y=\"-215.8\" font-family=\"Helvetica,sans-Serif\" font-size=\"14.00\">samples = 433</text>\n",
       "<text text-anchor=\"start\" x=\"397\" y=\"-200.8\" font-family=\"Helvetica,sans-Serif\" font-size=\"14.00\">value = 22.023</text>\n",
       "</g>\n",
       "<!-- 0&#45;&gt;1 -->\n",
       "<g id=\"edge1\" class=\"edge\">\n",
       "<title>0&#45;&gt;1</title>\n",
       "<path fill=\"none\" stroke=\"black\" d=\"M504,-296.88C497.41,-288.15 490.22,-278.62 483.34,-269.51\"/>\n",
       "<polygon fill=\"black\" stroke=\"black\" points=\"485.96,-267.17 477.14,-261.3 480.37,-271.39 485.96,-267.17\"/>\n",
       "<text text-anchor=\"middle\" x=\"473.68\" y=\"-282.36\" font-family=\"Helvetica,sans-Serif\" font-size=\"14.00\">True</text>\n",
       "</g>\n",
       "<!-- 8 -->\n",
       "<g id=\"node9\" class=\"node\">\n",
       "<title>8</title>\n",
       "<path fill=\"#fcefe6\" stroke=\"black\" d=\"M720,-261C720,-261 618,-261 618,-261 612,-261 606,-255 606,-249 606,-249 606,-205 606,-205 606,-199 612,-193 618,-193 618,-193 720,-193 720,-193 726,-193 732,-199 732,-205 732,-205 732,-249 732,-249 732,-255 726,-261 720,-261\"/>\n",
       "<text text-anchor=\"start\" x=\"633.5\" y=\"-245.8\" font-family=\"Helvetica,sans-Serif\" font-size=\"14.00\">age ≤ 5.5</text>\n",
       "<text text-anchor=\"start\" x=\"618\" y=\"-230.8\" font-family=\"Helvetica,sans-Serif\" font-size=\"14.00\">mse = 27.419</text>\n",
       "<text text-anchor=\"start\" x=\"614.5\" y=\"-215.8\" font-family=\"Helvetica,sans-Serif\" font-size=\"14.00\">samples = 365</text>\n",
       "<text text-anchor=\"start\" x=\"614\" y=\"-200.8\" font-family=\"Helvetica,sans-Serif\" font-size=\"14.00\">value = 17.258</text>\n",
       "</g>\n",
       "<!-- 0&#45;&gt;8 -->\n",
       "<g id=\"edge8\" class=\"edge\">\n",
       "<title>0&#45;&gt;8</title>\n",
       "<path fill=\"none\" stroke=\"black\" d=\"M574.45,-296.88C587.41,-287.44 601.66,-277.06 615.07,-267.29\"/>\n",
       "<polygon fill=\"black\" stroke=\"black\" points=\"617.27,-270.02 623.29,-261.3 613.15,-264.36 617.27,-270.02\"/>\n",
       "<text text-anchor=\"middle\" x=\"619.42\" y=\"-282.3\" font-family=\"Helvetica,sans-Serif\" font-size=\"14.00\">False</text>\n",
       "</g>\n",
       "<!-- 2 -->\n",
       "<g id=\"node3\" class=\"node\">\n",
       "<title>2</title>\n",
       "<path fill=\"#fbebdf\" stroke=\"black\" d=\"M250,-157C250,-157 148,-157 148,-157 142,-157 136,-151 136,-145 136,-145 136,-101 136,-101 136,-95 142,-89 148,-89 148,-89 250,-89 250,-89 256,-89 262,-95 262,-101 262,-101 262,-145 262,-145 262,-151 256,-157 250,-157\"/>\n",
       "<text text-anchor=\"start\" x=\"163\" y=\"-141.8\" font-family=\"Helvetica,sans-Serif\" font-size=\"14.00\">SEX ≤ 0.5</text>\n",
       "<text text-anchor=\"start\" x=\"148\" y=\"-126.8\" font-family=\"Helvetica,sans-Serif\" font-size=\"14.00\">mse = 55.523</text>\n",
       "<text text-anchor=\"start\" x=\"144.5\" y=\"-111.8\" font-family=\"Helvetica,sans-Serif\" font-size=\"14.00\">samples = 181</text>\n",
       "<text text-anchor=\"start\" x=\"144\" y=\"-96.8\" font-family=\"Helvetica,sans-Serif\" font-size=\"14.00\">value = 17.829</text>\n",
       "</g>\n",
       "<!-- 1&#45;&gt;2 -->\n",
       "<g id=\"edge2\" class=\"edge\">\n",
       "<title>1&#45;&gt;2</title>\n",
       "<path fill=\"none\" stroke=\"black\" d=\"M387.17,-199.86C351.96,-185.67 308.31,-168.07 271.92,-153.4\"/>\n",
       "<polygon fill=\"black\" stroke=\"black\" points=\"272.93,-150.03 262.34,-149.54 270.31,-156.52 272.93,-150.03\"/>\n",
       "</g>\n",
       "<!-- 5 -->\n",
       "<g id=\"node6\" class=\"node\">\n",
       "<title>5</title>\n",
       "<path fill=\"#eead7e\" stroke=\"black\" d=\"M511.5,-157C511.5,-157 392.5,-157 392.5,-157 386.5,-157 380.5,-151 380.5,-145 380.5,-145 380.5,-101 380.5,-101 380.5,-95 386.5,-89 392.5,-89 392.5,-89 511.5,-89 511.5,-89 517.5,-89 523.5,-95 523.5,-101 523.5,-101 523.5,-145 523.5,-145 523.5,-151 517.5,-157 511.5,-157\"/>\n",
       "<text text-anchor=\"start\" x=\"388.5\" y=\"-141.8\" font-family=\"Helvetica,sans-Serif\" font-size=\"14.00\">cntryaccept ≤ 2.5</text>\n",
       "<text text-anchor=\"start\" x=\"396.5\" y=\"-126.8\" font-family=\"Helvetica,sans-Serif\" font-size=\"14.00\">mse = 126.471</text>\n",
       "<text text-anchor=\"start\" x=\"397.5\" y=\"-111.8\" font-family=\"Helvetica,sans-Serif\" font-size=\"14.00\">samples = 252</text>\n",
       "<text text-anchor=\"start\" x=\"397\" y=\"-96.8\" font-family=\"Helvetica,sans-Serif\" font-size=\"14.00\">value = 25.036</text>\n",
       "</g>\n",
       "<!-- 1&#45;&gt;5 -->\n",
       "<g id=\"edge5\" class=\"edge\">\n",
       "<title>1&#45;&gt;5</title>\n",
       "<path fill=\"none\" stroke=\"black\" d=\"M452,-192.88C452,-184.78 452,-175.98 452,-167.47\"/>\n",
       "<polygon fill=\"black\" stroke=\"black\" points=\"455.5,-167.3 452,-157.3 448.5,-167.3 455.5,-167.3\"/>\n",
       "</g>\n",
       "<!-- 3 -->\n",
       "<g id=\"node4\" class=\"node\">\n",
       "<title>3</title>\n",
       "<path fill=\"#e58139\" stroke=\"black\" d=\"M106,-53C106,-53 12,-53 12,-53 6,-53 0,-47 0,-41 0,-41 0,-12 0,-12 0,-6 6,0 12,0 12,0 106,0 106,0 112,0 118,-6 118,-12 118,-12 118,-41 118,-41 118,-47 112,-53 106,-53\"/>\n",
       "<text text-anchor=\"start\" x=\"8\" y=\"-37.8\" font-family=\"Helvetica,sans-Serif\" font-size=\"14.00\">mse = 106.56</text>\n",
       "<text text-anchor=\"start\" x=\"13.5\" y=\"-22.8\" font-family=\"Helvetica,sans-Serif\" font-size=\"14.00\">samples = 5</text>\n",
       "<text text-anchor=\"start\" x=\"13\" y=\"-7.8\" font-family=\"Helvetica,sans-Serif\" font-size=\"14.00\">value = 30.2</text>\n",
       "</g>\n",
       "<!-- 2&#45;&gt;3 -->\n",
       "<g id=\"edge3\" class=\"edge\">\n",
       "<title>2&#45;&gt;3</title>\n",
       "<path fill=\"none\" stroke=\"black\" d=\"M150.03,-88.95C135.67,-79.25 120,-68.68 105.77,-59.07\"/>\n",
       "<polygon fill=\"black\" stroke=\"black\" points=\"107.38,-55.93 97.13,-53.24 103.46,-61.73 107.38,-55.93\"/>\n",
       "</g>\n",
       "<!-- 4 -->\n",
       "<g id=\"node5\" class=\"node\">\n",
       "<title>4</title>\n",
       "<path fill=\"#fbeee4\" stroke=\"black\" d=\"M250,-53C250,-53 148,-53 148,-53 142,-53 136,-47 136,-41 136,-41 136,-12 136,-12 136,-6 142,0 148,0 148,0 250,0 250,0 256,0 262,-6 262,-12 262,-12 262,-41 262,-41 262,-47 256,-53 250,-53\"/>\n",
       "<text text-anchor=\"start\" x=\"148\" y=\"-37.8\" font-family=\"Helvetica,sans-Serif\" font-size=\"14.00\">mse = 49.602</text>\n",
       "<text text-anchor=\"start\" x=\"144.5\" y=\"-22.8\" font-family=\"Helvetica,sans-Serif\" font-size=\"14.00\">samples = 176</text>\n",
       "<text text-anchor=\"start\" x=\"144\" y=\"-7.8\" font-family=\"Helvetica,sans-Serif\" font-size=\"14.00\">value = 17.477</text>\n",
       "</g>\n",
       "<!-- 2&#45;&gt;4 -->\n",
       "<g id=\"edge4\" class=\"edge\">\n",
       "<title>2&#45;&gt;4</title>\n",
       "<path fill=\"none\" stroke=\"black\" d=\"M199,-88.95C199,-80.72 199,-71.85 199,-63.48\"/>\n",
       "<polygon fill=\"black\" stroke=\"black\" points=\"202.5,-63.24 199,-53.24 195.5,-63.24 202.5,-63.24\"/>\n",
       "</g>\n",
       "<!-- 6 -->\n",
       "<g id=\"node7\" class=\"node\">\n",
       "<title>6</title>\n",
       "<path fill=\"#e5823b\" stroke=\"black\" d=\"M395.5,-53C395.5,-53 292.5,-53 292.5,-53 286.5,-53 280.5,-47 280.5,-41 280.5,-41 280.5,-12 280.5,-12 280.5,-6 286.5,0 292.5,0 292.5,0 395.5,0 395.5,0 401.5,0 407.5,-6 407.5,-12 407.5,-12 407.5,-41 407.5,-41 407.5,-47 401.5,-53 395.5,-53\"/>\n",
       "<text text-anchor=\"start\" x=\"288.5\" y=\"-37.8\" font-family=\"Helvetica,sans-Serif\" font-size=\"14.00\">mse = 226.193</text>\n",
       "<text text-anchor=\"start\" x=\"294\" y=\"-22.8\" font-family=\"Helvetica,sans-Serif\" font-size=\"14.00\">samples = 35</text>\n",
       "<text text-anchor=\"start\" x=\"289\" y=\"-7.8\" font-family=\"Helvetica,sans-Serif\" font-size=\"14.00\">value = 30.086</text>\n",
       "</g>\n",
       "<!-- 5&#45;&gt;6 -->\n",
       "<g id=\"edge6\" class=\"edge\">\n",
       "<title>5&#45;&gt;6</title>\n",
       "<path fill=\"none\" stroke=\"black\" d=\"M414.23,-88.95C403.46,-79.53 391.74,-69.27 381.02,-59.89\"/>\n",
       "<polygon fill=\"black\" stroke=\"black\" points=\"383.24,-57.19 373.41,-53.24 378.63,-62.46 383.24,-57.19\"/>\n",
       "</g>\n",
       "<!-- 7 -->\n",
       "<g id=\"node8\" class=\"node\">\n",
       "<title>7</title>\n",
       "<path fill=\"#f0b489\" stroke=\"black\" d=\"M540,-53C540,-53 438,-53 438,-53 432,-53 426,-47 426,-41 426,-41 426,-12 426,-12 426,-6 432,0 438,0 438,0 540,0 540,0 546,0 552,-6 552,-12 552,-12 552,-41 552,-41 552,-47 546,-53 540,-53\"/>\n",
       "<text text-anchor=\"start\" x=\"438\" y=\"-37.8\" font-family=\"Helvetica,sans-Serif\" font-size=\"14.00\">mse = 105.61</text>\n",
       "<text text-anchor=\"start\" x=\"434.5\" y=\"-22.8\" font-family=\"Helvetica,sans-Serif\" font-size=\"14.00\">samples = 217</text>\n",
       "<text text-anchor=\"start\" x=\"434\" y=\"-7.8\" font-family=\"Helvetica,sans-Serif\" font-size=\"14.00\">value = 24.221</text>\n",
       "</g>\n",
       "<!-- 5&#45;&gt;7 -->\n",
       "<g id=\"edge7\" class=\"edge\">\n",
       "<title>5&#45;&gt;7</title>\n",
       "<path fill=\"none\" stroke=\"black\" d=\"M464.94,-88.95C468.27,-80.44 471.87,-71.26 475.24,-62.65\"/>\n",
       "<polygon fill=\"black\" stroke=\"black\" points=\"478.54,-63.82 478.92,-53.24 472.02,-61.27 478.54,-63.82\"/>\n",
       "</g>\n",
       "<!-- 9 -->\n",
       "<g id=\"node10\" class=\"node\">\n",
       "<title>9</title>\n",
       "<path fill=\"#f8dfcc\" stroke=\"black\" d=\"M721.5,-157C721.5,-157 616.5,-157 616.5,-157 610.5,-157 604.5,-151 604.5,-145 604.5,-145 604.5,-101 604.5,-101 604.5,-95 610.5,-89 616.5,-89 616.5,-89 721.5,-89 721.5,-89 727.5,-89 733.5,-95 733.5,-101 733.5,-101 733.5,-145 733.5,-145 733.5,-151 727.5,-157 721.5,-157\"/>\n",
       "<text text-anchor=\"start\" x=\"612.5\" y=\"-141.8\" font-family=\"Helvetica,sans-Serif\" font-size=\"14.00\">attraction ≤ 4.5</text>\n",
       "<text text-anchor=\"start\" x=\"618\" y=\"-126.8\" font-family=\"Helvetica,sans-Serif\" font-size=\"14.00\">mse = 47.697</text>\n",
       "<text text-anchor=\"start\" x=\"614.5\" y=\"-111.8\" font-family=\"Helvetica,sans-Serif\" font-size=\"14.00\">samples = 104</text>\n",
       "<text text-anchor=\"start\" x=\"614\" y=\"-96.8\" font-family=\"Helvetica,sans-Serif\" font-size=\"14.00\">value = 19.231</text>\n",
       "</g>\n",
       "<!-- 8&#45;&gt;9 -->\n",
       "<g id=\"edge9\" class=\"edge\">\n",
       "<title>8&#45;&gt;9</title>\n",
       "<path fill=\"none\" stroke=\"black\" d=\"M669,-192.88C669,-184.78 669,-175.98 669,-167.47\"/>\n",
       "<polygon fill=\"black\" stroke=\"black\" points=\"672.5,-167.3 669,-157.3 665.5,-167.3 672.5,-167.3\"/>\n",
       "</g>\n",
       "<!-- 12 -->\n",
       "<g id=\"node13\" class=\"node\">\n",
       "<title>12</title>\n",
       "<path fill=\"#fdf6f1\" stroke=\"black\" d=\"M979,-157C979,-157 863,-157 863,-157 857,-157 851,-151 851,-145 851,-145 851,-101 851,-101 851,-95 857,-89 863,-89 863,-89 979,-89 979,-89 985,-89 991,-95 991,-101 991,-101 991,-145 991,-145 991,-151 985,-157 979,-157\"/>\n",
       "<text text-anchor=\"start\" x=\"859\" y=\"-141.8\" font-family=\"Helvetica,sans-Serif\" font-size=\"14.00\">identityimp ≤ 3.5</text>\n",
       "<text text-anchor=\"start\" x=\"870\" y=\"-126.8\" font-family=\"Helvetica,sans-Serif\" font-size=\"14.00\">mse = 17.169</text>\n",
       "<text text-anchor=\"start\" x=\"866.5\" y=\"-111.8\" font-family=\"Helvetica,sans-Serif\" font-size=\"14.00\">samples = 261</text>\n",
       "<text text-anchor=\"start\" x=\"866\" y=\"-96.8\" font-family=\"Helvetica,sans-Serif\" font-size=\"14.00\">value = 16.471</text>\n",
       "</g>\n",
       "<!-- 8&#45;&gt;12 -->\n",
       "<g id=\"edge12\" class=\"edge\">\n",
       "<title>8&#45;&gt;12</title>\n",
       "<path fill=\"none\" stroke=\"black\" d=\"M732.26,-200.39C765.32,-187.01 806.11,-170.5 841.31,-156.26\"/>\n",
       "<polygon fill=\"black\" stroke=\"black\" points=\"842.64,-159.49 850.6,-152.5 840.02,-153 842.64,-159.49\"/>\n",
       "</g>\n",
       "<!-- 10 -->\n",
       "<g id=\"node11\" class=\"node\">\n",
       "<title>10</title>\n",
       "<path fill=\"#fae5d7\" stroke=\"black\" d=\"M684,-53C684,-53 582,-53 582,-53 576,-53 570,-47 570,-41 570,-41 570,-12 570,-12 570,-6 576,0 582,0 582,0 684,0 684,0 690,0 696,-6 696,-12 696,-12 696,-41 696,-41 696,-47 690,-53 684,-53\"/>\n",
       "<text text-anchor=\"start\" x=\"582\" y=\"-37.8\" font-family=\"Helvetica,sans-Serif\" font-size=\"14.00\">mse = 34.362</text>\n",
       "<text text-anchor=\"start\" x=\"583\" y=\"-22.8\" font-family=\"Helvetica,sans-Serif\" font-size=\"14.00\">samples = 85</text>\n",
       "<text text-anchor=\"start\" x=\"578\" y=\"-7.8\" font-family=\"Helvetica,sans-Serif\" font-size=\"14.00\">value = 18.424</text>\n",
       "</g>\n",
       "<!-- 9&#45;&gt;10 -->\n",
       "<g id=\"edge10\" class=\"edge\">\n",
       "<title>9&#45;&gt;10</title>\n",
       "<path fill=\"none\" stroke=\"black\" d=\"M656.41,-88.95C653.17,-80.44 649.67,-71.26 646.39,-62.65\"/>\n",
       "<polygon fill=\"black\" stroke=\"black\" points=\"649.64,-61.34 642.8,-53.24 643.09,-63.83 649.64,-61.34\"/>\n",
       "</g>\n",
       "<!-- 11 -->\n",
       "<g id=\"node12\" class=\"node\">\n",
       "<title>11</title>\n",
       "<path fill=\"#f2c09c\" stroke=\"black\" d=\"M828,-53C828,-53 726,-53 726,-53 720,-53 714,-47 714,-41 714,-41 714,-12 714,-12 714,-6 720,0 726,0 726,0 828,0 828,0 834,0 840,-6 840,-12 840,-12 840,-41 840,-41 840,-47 834,-53 828,-53\"/>\n",
       "<text text-anchor=\"start\" x=\"726\" y=\"-37.8\" font-family=\"Helvetica,sans-Serif\" font-size=\"14.00\">mse = 91.396</text>\n",
       "<text text-anchor=\"start\" x=\"727\" y=\"-22.8\" font-family=\"Helvetica,sans-Serif\" font-size=\"14.00\">samples = 19</text>\n",
       "<text text-anchor=\"start\" x=\"722\" y=\"-7.8\" font-family=\"Helvetica,sans-Serif\" font-size=\"14.00\">value = 22.842</text>\n",
       "</g>\n",
       "<!-- 9&#45;&gt;11 -->\n",
       "<g id=\"edge11\" class=\"edge\">\n",
       "<title>9&#45;&gt;11</title>\n",
       "<path fill=\"none\" stroke=\"black\" d=\"M706.77,-88.95C717.54,-79.53 729.26,-69.27 739.98,-59.89\"/>\n",
       "<polygon fill=\"black\" stroke=\"black\" points=\"742.37,-62.46 747.59,-53.24 737.76,-57.19 742.37,-62.46\"/>\n",
       "</g>\n",
       "<!-- 13 -->\n",
       "<g id=\"node14\" class=\"node\">\n",
       "<title>13</title>\n",
       "<path fill=\"#fcf1ea\" stroke=\"black\" d=\"M972,-53C972,-53 870,-53 870,-53 864,-53 858,-47 858,-41 858,-41 858,-12 858,-12 858,-6 864,0 870,0 870,0 972,0 972,0 978,0 984,-6 984,-12 984,-12 984,-41 984,-41 984,-47 978,-53 972,-53\"/>\n",
       "<text text-anchor=\"start\" x=\"870\" y=\"-37.8\" font-family=\"Helvetica,sans-Serif\" font-size=\"14.00\">mse = 16.546</text>\n",
       "<text text-anchor=\"start\" x=\"866.5\" y=\"-22.8\" font-family=\"Helvetica,sans-Serif\" font-size=\"14.00\">samples = 172</text>\n",
       "<text text-anchor=\"start\" x=\"866\" y=\"-7.8\" font-family=\"Helvetica,sans-Serif\" font-size=\"14.00\">value = 17.012</text>\n",
       "</g>\n",
       "<!-- 12&#45;&gt;13 -->\n",
       "<g id=\"edge13\" class=\"edge\">\n",
       "<title>12&#45;&gt;13</title>\n",
       "<path fill=\"none\" stroke=\"black\" d=\"M921,-88.95C921,-80.72 921,-71.85 921,-63.48\"/>\n",
       "<polygon fill=\"black\" stroke=\"black\" points=\"924.5,-63.24 921,-53.24 917.5,-63.24 924.5,-63.24\"/>\n",
       "</g>\n",
       "<!-- 14 -->\n",
       "<g id=\"node15\" class=\"node\">\n",
       "<title>14</title>\n",
       "<path fill=\"#ffffff\" stroke=\"black\" d=\"M1116,-53C1116,-53 1014,-53 1014,-53 1008,-53 1002,-47 1002,-41 1002,-41 1002,-12 1002,-12 1002,-6 1008,0 1014,0 1014,0 1116,0 1116,0 1122,0 1128,-6 1128,-12 1128,-12 1128,-41 1128,-41 1128,-47 1122,-53 1116,-53\"/>\n",
       "<text text-anchor=\"start\" x=\"1014\" y=\"-37.8\" font-family=\"Helvetica,sans-Serif\" font-size=\"14.00\">mse = 16.717</text>\n",
       "<text text-anchor=\"start\" x=\"1015\" y=\"-22.8\" font-family=\"Helvetica,sans-Serif\" font-size=\"14.00\">samples = 89</text>\n",
       "<text text-anchor=\"start\" x=\"1010\" y=\"-7.8\" font-family=\"Helvetica,sans-Serif\" font-size=\"14.00\">value = 15.427</text>\n",
       "</g>\n",
       "<!-- 12&#45;&gt;14 -->\n",
       "<g id=\"edge14\" class=\"edge\">\n",
       "<title>12&#45;&gt;14</title>\n",
       "<path fill=\"none\" stroke=\"black\" d=\"M971.36,-88.95C986.28,-79.16 1002.56,-68.48 1017.3,-58.8\"/>\n",
       "<polygon fill=\"black\" stroke=\"black\" points=\"1019.34,-61.65 1025.78,-53.24 1015.5,-55.8 1019.34,-61.65\"/>\n",
       "</g>\n",
       "</g>\n",
       "</svg>\n"
      ],
      "text/plain": [
       "<graphviz.files.Source at 0x7f122e500a00>"
      ]
     },
     "execution_count": 18,
     "metadata": {},
     "output_type": "execute_result"
    }
   ],
   "source": [
    "tree_graph = tree.export_graphviz(trained, out_file=None,\n",
    "                                  feature_names=['ssmsupport', 'IDEO', 'SEX', 'attraction', 'identityimp',\n",
    "       'cntryaccept', 'rlgnconflict', 'cityaccept', 'friends', 'religiosity',\n",
    "       'INCOME', 'age', 'education', 'race_Black, Non-Hispanic',\n",
    "       'race_Hispanic', 'race_Other, Non-Hispanic',\n",
    "       'race_White, Non-Hispanic'], filled=True, rounded=True, special_characters=True)\n",
    "\n",
    "graphviz.Source(tree_graph)"
   ]
  },
  {
   "cell_type": "markdown",
   "metadata": {},
   "source": [
    "**Random Forest**"
   ]
  },
  {
   "cell_type": "code",
   "execution_count": 19,
   "metadata": {
    "scrolled": true
   },
   "outputs": [
    {
     "data": {
      "text/plain": [
       "62.89803252194758"
      ]
     },
     "execution_count": 19,
     "metadata": {},
     "output_type": "execute_result"
    }
   ],
   "source": [
    "forest = ensemble.RandomForestRegressor(n_estimators = 1000, random_state = 0, max_features = 'sqrt', oob_score = True).fit(X_train, y_train)\n",
    "rf_pred = forest.predict(X_test)\n",
    "metrics.mean_squared_error(y_test, rf_pred)"
   ]
  },
  {
   "cell_type": "code",
   "execution_count": 20,
   "metadata": {},
   "outputs": [
    {
     "data": {
      "text/plain": [
       "race_Hispanic               0.004221\n",
       "race_Black                  0.006402\n",
       "Non-Hispanic                0.014955\n",
       "race_Other, Non-Hispanic    0.020685\n",
       "rlgnconflict                0.029030\n",
       "ssmsupport                  0.033026\n",
       "SEX                         0.036064\n",
       "education                   0.055651\n",
       "friends                     0.063156\n",
       "cityaccept                  0.066310\n",
       "cntryaccept                 0.067391\n",
       "IDEO                        0.068096\n",
       "religiosity                 0.070783\n",
       "identityimp                 0.083735\n",
       "INCOME                      0.105470\n",
       "attraction                  0.107549\n",
       "age                         0.167477\n",
       "dtype: float64"
      ]
     },
     "execution_count": 20,
     "metadata": {},
     "output_type": "execute_result"
    }
   ],
   "source": [
    "features = ['ssmsupport', 'IDEO', 'SEX', 'attraction', 'identityimp', 'cntryaccept', 'rlgnconflict', \n",
    "            'cityaccept', 'friends', 'religiosity', 'INCOME', 'age', 'education', 'race_Black', \n",
    "            'Non-Hispanic', 'race_Hispanic', 'race_Other, Non-Hispanic', 'race_White, Non-Hispanic']\n",
    "importances = forest.feature_importances_\n",
    "feat = pd.Series(dict(zip(features, importances)))\n",
    "feat = feat.sort_values()\n",
    "feat"
   ]
  },
  {
   "cell_type": "code",
   "execution_count": 21,
   "metadata": {},
   "outputs": [
    {
     "data": {
      "image/png": "[encoded data removed]",
      "text/plain": [
       "<Figure size 720x432 with 1 Axes>"
      ]
     },
     "metadata": {
      "needs_background": "light"
     },
     "output_type": "display_data"
    }
   ],
   "source": [
    "# added 0.5 to make the colors easier to distinguish\n",
    "colors = plt.cm.coolwarm(np.sort(importances) + 0.5)\n",
    "\n",
    "fig, ax = plt.subplots(figsize = (10, 6))\n",
    "feat.plot(kind = 'barh', color = colors, title = 'Feature Importance');\n",
    "plt.xlabel('Relative importance');"
   ]
  },
  {
   "cell_type": "markdown",
   "metadata": {},
   "source": [
    "**Neural network**"
   ]
  },
  {
   "cell_type": "code",
   "execution_count": 22,
   "metadata": {},
   "outputs": [
    {
     "data": {
      "text/plain": [
       "6.562507369263904"
      ]
     },
     "execution_count": 22,
     "metadata": {},
     "output_type": "execute_result"
    }
   ],
   "source": [
    "# validation_fraction set to match the default in train_test_split\n",
    "nn_scaled_model = pipeline.make_pipeline(\n",
    "    preprocessing.StandardScaler(), \n",
    "    neural_network.MLPRegressor((40, 30), max_iter = 1000, solver = 'sgd', batch_size = 100, validation_fraction = 0.25) \n",
    ")\n",
    "\n",
    "nn_scaled_model.fit(X, y)\n",
    "mse_nn_scaled = metrics.mean_squared_error(y, nn_scaled_model.predict(X))\n",
    "mse_nn_scaled"
   ]
  },
  {
   "cell_type": "markdown",
   "metadata": {},
   "source": [
    "## Conclusion\n",
    "\n",
    "- Linear regression, Lasso (with five-fold cross validation), and Random Forests give approximately the same mean-squared error (MSE). The regression tree, even after pruning to a depth of 3, had a slightly larger MSE. A multilayer perceptron fit using stochastic gradient descent had the lowest MSE. \n",
    "\n",
    "- The top 3 features for predicting the age of being certain of one's sexual orientation are age, attraction, and income based on random forests."
   ]
  }
 ],
 "metadata": {
  "kernelspec": {
   "display_name": "Python 3",
   "language": "python",
   "name": "python3"
  },
  "language_info": {
   "codemirror_mode": {
    "name": "ipython",
    "version": 3
   },
   "file_extension": ".py",
   "mimetype": "text/x-python",
   "name": "python",
   "nbconvert_exporter": "python",
   "pygments_lexer": "ipython3",
   "version": "3.8.6"
  }
 },
 "nbformat": 4,
 "nbformat_minor": 4
}
